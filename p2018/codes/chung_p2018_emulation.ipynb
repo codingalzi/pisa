{
 "cells": [
  {
   "cell_type": "code",
   "execution_count": 2,
   "id": "18bb6423",
   "metadata": {},
   "outputs": [],
   "source": [
    "from chung_variable_mapping import *"
   ]
  },
  {
   "cell_type": "code",
   "execution_count": 4,
   "id": "d246136e",
   "metadata": {},
   "outputs": [
    {
     "data": {
      "text/plain": [
       "dict_keys(['학생_배경', '학생_과정', '진로_관련', 'ICT', '사회환경적', '부모_관련', '교사_관련', '학교_관련'])"
      ]
     },
     "execution_count": 4,
     "metadata": {},
     "output_type": "execute_result"
    }
   ],
   "source": [
    "variable_mapping.keys()"
   ]
  },
  {
   "cell_type": "code",
   "execution_count": 6,
   "id": "d86d2532",
   "metadata": {},
   "outputs": [
    {
     "data": {
      "text/plain": [
       "dict_keys(['ESCS', '아버지의_사회경제직업수준', '어머니의_사회경제직업수준', '아버지의_교육수준', '어머니의_교육수준', '부모님의_교육수준', '가정의_문화적_보유자산', '가정의_교육적_자산', '가정의_부유함', 'ICT_자산', '이민_상황_지표', '학력변경_횟수', '학년유예', '전학횟수', '나이', '가정에서_사용_가능한_ICT', '성별', '집에서_주로_사용하는_언어', '초등학교_재학_중_전학_여부', '중학교_재학_중_전학_여부', '학습_계열_변경_여부', '연간_가계_소득'])"
      ]
     },
     "execution_count": 6,
     "metadata": {},
     "output_type": "execute_result"
    }
   ],
   "source": [
    "variable_mapping['학생_배경'].keys()"
   ]
  },
  {
   "cell_type": "code",
   "execution_count": null,
   "id": "7ec61c99",
   "metadata": {},
   "outputs": [],
   "source": []
  }
 ],
 "metadata": {
  "kernelspec": {
   "display_name": "base",
   "language": "python",
   "name": "python3"
  },
  "language_info": {
   "codemirror_mode": {
    "name": "ipython",
    "version": 3
   },
   "file_extension": ".py",
   "mimetype": "text/x-python",
   "name": "python",
   "nbconvert_exporter": "python",
   "pygments_lexer": "ipython3",
   "version": "3.13.7"
  }
 },
 "nbformat": 4,
 "nbformat_minor": 5
}
